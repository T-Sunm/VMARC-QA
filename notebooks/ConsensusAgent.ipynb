{
 "cells": [
  {
   "cell_type": "code",
   "execution_count": 7,
   "id": "17e13b0b",
   "metadata": {},
   "outputs": [],
   "source": [
    "from bert_score import score as bert_score\n",
    "from typing import List, Dict\n",
    "\n",
    "def _is_consistent(thinkings: List[str]) -> bool:\n",
    "        \"\"\"\n",
    "        Trả về True nếu có ít nhất min_pairs cặp thinking có BERTScore F1 >= threshold\n",
    "        \"\"\"\n",
    "        refs, cands = [], []\n",
    "        for i in range(len(thinkings)):\n",
    "            for j in range(i + 1, len(thinkings)):\n",
    "                refs.append(thinkings[i])\n",
    "                cands.append(thinkings[j])\n",
    "\n",
    "        P, R, F1 = bert_score(cands, refs, lang=\"vi\", verbose=False)\n",
    "        print(F1)\n",
    "        ok_flags = [f.item() >= 0.5 for f in F1]\n",
    "        ok_count  = sum(ok_flags)\n",
    "\n",
    "        return ok_count >= 1\n"
   ]
  },
  {
   "cell_type": "code",
   "execution_count": null,
   "id": "14ff1b87",
   "metadata": {},
   "outputs": [
    {
     "name": "stdout",
     "output_type": "stream",
     "text": [
      "tensor([0.7172, 0.6677, 0.7545])\n",
      "True\n"
     ]
    }
   ],
   "source": [
    "r1 = 'Mô tả về một \"chiếc tàu lớn\" tại \"một cảng\" gợi ý đây có thể là một thuyền giải trí, do tàu lớn thường xuất hiện ở cảng du lịch. Trong các lựa chọn, \"có\" là phương án gần nhất dựa trên bối cảnh hình ảnh.'\n",
    "r2 = 'Dựa trên kiến thức về tàu hàng, con tàu có boong phẳng, cửa sập lớn, khoang chứa và cần cẩu, neo đậu ở cảng – đều là đặc điểm thường thấy ở tàu vận tải. Có khả năng đây là tàu chở hàng hoặc tàu quân sự'\n",
    "r3 = 'Tàu mang số hiệu L-3005, có radar, ăng-ten và cần cẩu – là những chi tiết điển hình của tàu quân sự. Ngoài ra, thiết kế vỏ thép chắc chắn, boong phẳng và khoang chứa càng củng cố đây không phải là thuyền giải trí'\n",
    "\n",
    "print(_is_consistent([r1, r2, r3]))"
   ]
  }
 ],
 "metadata": {
  "kernelspec": {
   "display_name": "MAK-Minh",
   "language": "python",
   "name": "python3"
  },
  "language_info": {
   "codemirror_mode": {
    "name": "ipython",
    "version": 3
   },
   "file_extension": ".py",
   "mimetype": "text/x-python",
   "name": "python",
   "nbconvert_exporter": "python",
   "pygments_lexer": "ipython3",
   "version": "3.10.18"
  }
 },
 "nbformat": 4,
 "nbformat_minor": 5
}
