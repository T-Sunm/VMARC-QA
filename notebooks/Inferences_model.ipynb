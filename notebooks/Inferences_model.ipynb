{
 "cells": [
  {
   "cell_type": "code",
   "execution_count": null,
   "id": "38b6fd49",
   "metadata": {},
   "outputs": [
    {
     "name": "stdout",
     "output_type": "stream",
     "text": [
      "INFO 07-21 02:15:07 [config.py:841] This model supports multiple tasks: {'classify', 'generate', 'embed', 'reward'}. Defaulting to 'generate'.\n",
      "INFO 07-21 02:15:07 [config.py:1472] Using max model len 40960\n",
      "INFO 07-21 02:15:07 [config.py:2285] Chunked prefill is enabled with max_num_batched_tokens=8192.\n",
      "INFO 07-21 02:15:09 [core.py:526] Waiting for init message from front-end.\n",
      "INFO 07-21 02:15:09 [core.py:69] Initializing a V1 LLM engine (v0.9.2) with config: model='Qwen/Qwen3-1.7B', speculative_config=None, tokenizer='Qwen/Qwen3-1.7B', skip_tokenizer_init=False, tokenizer_mode=auto, revision=None, override_neuron_config={}, tokenizer_revision=None, trust_remote_code=False, dtype=torch.bfloat16, max_seq_len=40960, download_dir=None, load_format=auto, tensor_parallel_size=1, pipeline_parallel_size=1, disable_custom_all_reduce=False, quantization=None, enforce_eager=False, kv_cache_dtype=auto,  device_config=cuda, decoding_config=DecodingConfig(backend='auto', disable_fallback=False, disable_any_whitespace=False, disable_additional_properties=False, reasoning_backend=''), observability_config=ObservabilityConfig(show_hidden_metrics_for_version=None, otlp_traces_endpoint=None, collect_detailed_traces=None), seed=0, served_model_name=Qwen/Qwen3-1.7B, num_scheduler_steps=1, multi_step_stream_outputs=True, enable_prefix_caching=True, chunked_prefill_enabled=True, use_async_output_proc=True, pooler_config=None, compilation_config={\"level\":3,\"debug_dump_path\":\"\",\"cache_dir\":\"\",\"backend\":\"\",\"custom_ops\":[],\"splitting_ops\":[\"vllm.unified_attention\",\"vllm.unified_attention_with_output\"],\"use_inductor\":true,\"compile_sizes\":[],\"inductor_compile_config\":{\"enable_auto_functionalized_v2\":false},\"inductor_passes\":{},\"use_cudagraph\":true,\"cudagraph_num_of_warmups\":1,\"cudagraph_capture_sizes\":[512,504,496,488,480,472,464,456,448,440,432,424,416,408,400,392,384,376,368,360,352,344,336,328,320,312,304,296,288,280,272,264,256,248,240,232,224,216,208,200,192,184,176,168,160,152,144,136,128,120,112,104,96,88,80,72,64,56,48,40,32,24,16,8,4,2,1],\"cudagraph_copy_inputs\":false,\"full_cuda_graph\":false,\"max_capture_size\":512,\"local_cache_dir\":null}\n",
      "INFO 07-21 02:15:10 [parallel_state.py:1076] rank 0 in world size 1 is assigned as DP rank 0, PP rank 0, TP rank 0, EP rank 0\n",
      "WARNING 07-21 02:15:10 [topk_topp_sampler.py:59] FlashInfer is not available. Falling back to the PyTorch-native implementation of top-p & top-k sampling. For the best performance, please install FlashInfer.\n",
      "INFO 07-21 02:15:10 [gpu_model_runner.py:1770] Starting to load model Qwen/Qwen3-1.7B...\n",
      "INFO 07-21 02:15:10 [gpu_model_runner.py:1775] Loading model from scratch...\n",
      "INFO 07-21 02:15:10 [cuda.py:284] Using Flash Attention backend on V1 engine.\n",
      "INFO 07-21 02:15:11 [weight_utils.py:292] Using model weights format ['*.safetensors']\n"
     ]
    },
    {
     "name": "stderr",
     "output_type": "stream",
     "text": [
      "Loading safetensors checkpoint shards:   0% Completed | 0/2 [00:00<?, ?it/s]\n",
      "Loading safetensors checkpoint shards: 100% Completed | 2/2 [00:02<00:00,  1.16s/it]\n",
      "Loading safetensors checkpoint shards: 100% Completed | 2/2 [00:02<00:00,  1.16s/it]\n",
      "\n"
     ]
    },
    {
     "name": "stdout",
     "output_type": "stream",
     "text": [
      "INFO 07-21 02:15:15 [default_loader.py:272] Loading weights took 2.43 seconds\n",
      "INFO 07-21 02:15:15 [gpu_model_runner.py:1801] Model loading took 3.2152 GiB and 4.513585 seconds\n",
      "INFO 07-21 02:15:23 [backends.py:508] Using cache directory: /home/minhtq/.cache/vllm/torch_compile_cache/cadda23816/rank_0_0/backbone for vLLM's torch.compile\n",
      "INFO 07-21 02:15:23 [backends.py:519] Dynamo bytecode transform time: 7.93 s\n"
     ]
    },
    {
     "name": "stderr",
     "output_type": "stream",
     "text": [
      "[rank0]:W0721 02:15:25.262000 2054282 site-packages/torch/_inductor/utils.py:1250] [0/0] Not enough SMs to use max_autotune_gemm mode\n"
     ]
    },
    {
     "name": "stdout",
     "output_type": "stream",
     "text": [
      "INFO 07-21 02:15:29 [backends.py:181] Cache the graph of shape None for later use\n",
      "INFO 07-21 02:15:58 [backends.py:193] Compiling a graph for general shape takes 34.60 s\n",
      "INFO 07-21 02:16:12 [monitor.py:34] torch.compile takes 42.53 s in total\n",
      "INFO 07-21 02:16:13 [gpu_worker.py:232] Available KV cache memory: 11.89 GiB\n",
      "INFO 07-21 02:16:13 [kv_cache_utils.py:716] GPU KV cache size: 111,280 tokens\n",
      "INFO 07-21 02:16:13 [kv_cache_utils.py:720] Maximum concurrency for 40,960 tokens per request: 2.72x\n"
     ]
    },
    {
     "name": "stderr",
     "output_type": "stream",
     "text": [
      "Capturing CUDA graph shapes: 100%|██████████| 67/67 [00:27<00:00,  2.40it/s]\n"
     ]
    },
    {
     "name": "stdout",
     "output_type": "stream",
     "text": [
      "INFO 07-21 02:16:41 [gpu_model_runner.py:2326] Graph capturing finished in 28 secs, took 0.49 GiB\n",
      "INFO 07-21 02:16:41 [core.py:172] init engine (profile, create kv cache, warmup model) took 86.00 seconds\n"
     ]
    },
    {
     "name": "stderr",
     "output_type": "stream",
     "text": [
      "Adding requests: 100%|██████████| 3/3 [00:00<00:00, 386.98it/s]\n",
      "Processed prompts: 100%|██████████| 3/3 [00:00<00:00, 17.84it/s, est. speed input: 89.69 toks/s, output: 286.98 toks/s]"
     ]
    },
    {
     "name": "stdout",
     "output_type": "stream",
     "text": [
      "Prompt: Hello, my name is\n",
      "Generated:  Kiko, I'm a 10-year-old boy who loves to play\n",
      "\n",
      "Prompt: The capital of France is\n",
      "Generated:  Paris. The population of Paris is 2.1 million. The population of\n",
      "\n",
      "Prompt: The future of AI is\n",
      "Generated:  not just about the technology itself but also about the ethical and societal implications of its\n",
      "\n"
     ]
    },
    {
     "name": "stderr",
     "output_type": "stream",
     "text": [
      "\n"
     ]
    }
   ],
   "source": [
    "from vllm import LLM, SamplingParams\n",
    "\n",
    "prompts = [\n",
    "    \"Hello, my name is\",\n",
    "    \"The capital of France is\",\n",
    "    \"The future of AI is\",\n",
    "]\n",
    "\n",
    "sampling_params = SamplingParams(temperature=0.8, top_p=0.95)\n",
    "llm = LLM(model=\"Qwen/Qwen3-1.7B\", gpu_memory_utilization=0.7)\n",
    "\n",
    "outputs = llm.generate(prompts, sampling_params)\n",
    "\n",
    "for output in outputs:\n",
    "    print(\"Prompt:\", output.prompt)\n",
    "    print(\"Generated:\", output.outputs[0].text)\n",
    "    print()\n"
   ]
  }
 ],
 "metadata": {
  "kernelspec": {
   "display_name": "MAK-Minh",
   "language": "python",
   "name": "python3"
  },
  "language_info": {
   "codemirror_mode": {
    "name": "ipython",
    "version": 3
   },
   "file_extension": ".py",
   "mimetype": "text/x-python",
   "name": "python",
   "nbconvert_exporter": "python",
   "pygments_lexer": "ipython3",
   "version": "3.10.18"
  }
 },
 "nbformat": 4,
 "nbformat_minor": 5
}
