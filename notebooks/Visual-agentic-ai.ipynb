{
 "cells": [
  {
   "cell_type": "code",
   "execution_count": 87,
   "metadata": {},
   "outputs": [],
   "source": [
    "import sys\n",
    "from pathlib import Path\n",
    "\n",
    "# Lấy thư mục làm việc hiện tại\n",
    "current_dir = Path.cwd()\n",
    "\n",
    "# Đi lên một cấp\n",
    "parent_dir = current_dir.parent\n",
    "\n",
    "sys.path.insert(0, str(parent_dir))\n"
   ]
  },
  {
   "cell_type": "code",
   "execution_count": null,
   "metadata": {},
   "outputs": [],
   "source": [
    "import base64\n",
    "from typing import Annotated, List, Union\n",
    "\n",
    "# import magic\n",
    "import requests\n",
    "from IPython.display import Image, display\n",
    "from langchain_community.tools import (\n",
    "    ArxivQueryRun,\n",
    "    DuckDuckGoSearchResults,\n",
    "    WikipediaQueryRun,\n",
    ")\n",
    "from langchain_community.utilities import (\n",
    "    ArxivAPIWrapper,\n",
    "    DuckDuckGoSearchAPIWrapper,\n",
    "    WikipediaAPIWrapper,\n",
    ")\n",
    "from langchain_core.messages import AnyMessage, HumanMessage, SystemMessage\n",
    "from langchain_core.prompts import ChatPromptTemplate\n",
    "from langchain_openai import ChatOpenAI\n",
    "from langgraph.graph import END, START, StateGraph\n",
    "from langgraph.graph import MessagesState\n",
    "from langgraph.graph.message import add_messages\n",
    "from langgraph.prebuilt import ToolNode, create_react_agent, tools_condition\n",
    "from pydantic import BaseModel, Field\n",
    "from typing_extensions import TypedDict\n",
    "\n",
    "\n",
    "from typing import Optional\n",
    "from langchain_core.tools import BaseTool\n",
    "from langchain_core.tools import tool\n",
    "from langchain_core.tools.base import ArgsSchema\n",
    "from pydantic import BaseModel, Field\n",
    "from langgraph.checkpoint.memory import MemorySaver\n",
    "import operator\n",
    "# from ultralytics import YOLO"
   ]
  },
  {
   "cell_type": "code",
   "execution_count": 89,
   "metadata": {},
   "outputs": [],
   "source": [
    "llm: ChatOpenAI = ChatOpenAI(\n",
    "    base_url=\"http://127.0.0.1:1234/v1\",\n",
    "    temperature=0,\n",
    "    api_key=\"not-needed\"\n",
    ")"
   ]
  },
  {
   "cell_type": "markdown",
   "metadata": {},
   "source": [
    "## Tools"
   ]
  },
  {
   "cell_type": "markdown",
   "metadata": {},
   "source": [
    "### KBs tools"
   ]
  },
  {
   "cell_type": "code",
   "execution_count": 15,
   "metadata": {},
   "outputs": [
    {
     "name": "stdout",
     "output_type": "stream",
     "text": [
      "Published: 2025-03-03\n",
      "Title: Rotary Outliers and Rotary Offset Features in Large Language Models\n",
      "Authors: André Jonasson\n",
      "Summary: Transformer-based Large Language Models (LLMs) rely on positional encodings\n",
      "to provide sequence position information to their attention mechanism. Rotary\n",
      "Positional Encodings (RoPE), which encode relative position by rotating queries\n",
      "and keys, have become widely used in modern LLMs. We study the features and\n",
      "patterns that emerge in queries and keys when using rotary embeddings. Our\n",
      "analysis reveals consistent patterns within the same model across layers and\n",
      "attention heads and across different models and architectures. We present and\n",
      "apply analysis techniques and show how the queries and keys use RoPE to\n",
      "construct various attention patterns, including attention sinks. We find and\n",
      "analyze outliers across models in queries and keys and find that they are\n",
      "likely to be found in rotary features with partial cycles. We derive bounds\n",
      "that tell us what rotary frequencies are likely to be selected as outlier\n",
      "features and at what minimum angle the query-key rotary pairs in these features\n",
      "tend to be above and verify the bounds empirically with models of significant\n",
      "architectural differences.\n",
      "\n",
      "Published: 2024-06-14\n",
      "Title: 3D-RPE: Enhancing Long-Context Modeling Through 3D Rotary Position Encoding\n",
      "Authors: Xindian Ma, Wenyuan Liu, Peng Zhang, Nan Xu\n",
      "Summary: Inspired by the Bloch Sphere representation, we propose a novel rotary\n",
      "position encoding on a three-dimensional sphere, named 3D Rotary Position\n",
      "Encoding (3D-RPE). 3D-RPE is an advanced version of the widely used 2D Rotary\n",
      "Position Encoding (RoPE), with two major advantages for modeling long contexts:\n",
      "controllable long-term decay and improved position resolution. For controllable\n",
      "long-term decay, 3D-RPE allows for the regulation of long-term decay within the\n",
      "chunk size, ensuring the modeling of relative positional information between\n",
      "tokens at a distant relative position. For enhanced position resolution, 3D-RPE\n",
      "can mitigate the degradation of position resolution caused by position\n",
      "interpolation on RoPE. We have conducted experiments on long-context Natural\n",
      "Language Understanding (NLU) and long-sequence Language Modeling (LM) tasks.\n",
      "From the experimental results, 3D-RPE achieved performance improvements over\n",
      "RoPE, especially in long-context NLU tasks.\n",
      "------------------\n",
      "Page: Machine learning\n",
      "Summary: Machine learning (ML) is a field of study in artificial intelligence concerned with the development and study of statistical algorithms that can learn from data and generalise to unseen data, and thus perform tasks without explicit instructions. Within a subdiscipline in machine learning, advances in the field of deep learning have allowed neural networks, a class of statistical algorithms, to surpass many previous machine learning approaches in performance.\n",
      "ML finds application in many fields, including natural language processing, computer vision, speech recognition, email filtering, agriculture, and medicine. The application of ML to business problems is known as predictive analytics.\n",
      "Statistics and mathematical optimisation (mathematical programming) methods comprise the foundations of machine learning. Data mining is a related field of study, focusing on exploratory data analysis (EDA) via unsupervised learning. \n",
      "From a theoretical viewpoint, probably approximately correct learning provides a framework for describing machine learning.\n",
      "\n",
      "Page: Neural network (machine learning)\n",
      "Summary: In machine learning, a neural network (also artificial neural network or neural net, abbreviated ANN or NN) is a computational model inspired by the structure and functions of biological neural networks.\n",
      "A neural network consists of connected units or nodes called artificial neurons, which loosely model the neurons in the brain. Artificial neuron models that mimic biological neurons more closely have also been recently investigated and shown to significantly improve performance. These are connected by edges, which model the synapses in the brain. Each artificial neuron receives signals from connected neurons, then processes them and sends a signal to other connected neurons. The \"signal\" is a real number, and the output of each neuron is computed by some non-linear function of the sum of its inputs, called the activation function. The strength of the signal at each connection is determined by a weight, which adjusts during the learning process.\n",
      "Typically, neurons are aggregated into layers. Different layers may perform different transformations on their inputs. Signals travel from the first layer (the input layer) to the last layer (the output layer), possibly passing through multiple intermediate layers (hidden layers). A network is typically called a deep neural network if it has at least two hidden layers.\n",
      "Artificial neural networks are used for various tasks, including predictive modeling, adaptive control, and solving problems in artificial intelligence. They can learn from experience, and can derive conclusions from a complex and seemingly unrelated set of information.\n",
      "\n",
      "\n"
     ]
    }
   ],
   "source": [
    "arxiv_wrapper = ArxivAPIWrapper(\n",
    "    top_k_results=2, \n",
    "    arxiv_search=None,\n",
    "    arxiv_exceptions=None\n",
    ")\n",
    "arxiv = ArxivQueryRun(api_wrapper=arxiv_wrapper)\n",
    "arxiv_result = arxiv.run(\"Rotary Positional Encoding\")\n",
    "print(arxiv_result)\n",
    "print(\"------------------\")\n",
    "wikipedia_wrapper = WikipediaAPIWrapper(top_k_results=2, wiki_client=None)\n",
    "wikipedia = WikipediaQueryRun(\n",
    "    api_wrapper=wikipedia_wrapper,\n",
    "    description=\"Search for information on a given topic using Wikipedia\"\n",
    ")\n",
    "result_wikipedia = wikipedia.invoke(\"machine learning\")\n",
    "print(result_wikipedia)"
   ]
  },
  {
   "cell_type": "markdown",
   "metadata": {},
   "source": [
    "### VQA tool"
   ]
  },
  {
   "cell_type": "code",
   "execution_count": 91,
   "metadata": {},
   "outputs": [],
   "source": [
    "from langchain_core.tools import tool\n",
    "\n",
    "@tool\n",
    "def vqa_tool(image_url: str, question: str) -> str:\n",
    "    \"\"\"return the candidate answer with probability of the question\"\"\"\n",
    "    return candidate_answers(image_url, question)\n"
   ]
  },
  {
   "cell_type": "code",
   "execution_count": 92,
   "metadata": {},
   "outputs": [
    {
     "data": {
      "text/plain": [
       "{'arxiv': ArxivQueryRun(description='Search for papers on a given topic using Arxiv', api_wrapper=ArxivAPIWrapper(arxiv_search=<class 'arxiv.Search'>, arxiv_exceptions=(<class 'arxiv.ArxivError'>, <class 'arxiv.UnexpectedEmptyPageError'>, <class 'arxiv.HTTPError'>), top_k_results=2, ARXIV_MAX_QUERY_LENGTH=300, continue_on_failure=False, load_max_docs=100, load_all_available_meta=False, doc_content_chars_max=1000)),\n",
       " 'wikipedia': WikipediaQueryRun(description='Search for information on a given topic using Wikipedia', api_wrapper=WikipediaAPIWrapper(wiki_client=<module 'wikipedia' from 'd:\\\\Asus\\\\App\\\\miniconda\\\\workspace\\\\envs\\\\MAknowledge\\\\lib\\\\site-packages\\\\wikipedia\\\\__init__.py'>, top_k_results=3, lang='en', load_all_available_meta=False, doc_content_chars_max=4000)),\n",
       " 'duckduckgo_results_json': DuckDuckGoSearchResults(api_wrapper=DuckDuckGoSearchAPIWrapper(region='wt-wt', safesearch='moderate', time='y', max_results=5, backend='auto', source='text'), output_format='list'),\n",
       " 'vqa_tool': StructuredTool(name='vqa_tool', description='return the candidate answer with probability of the question', args_schema=<class 'langchain_core.utils.pydantic.vqa_tool'>, func=<function vqa_tool at 0x0000022430885E10>)}"
      ]
     },
     "execution_count": 92,
     "metadata": {},
     "output_type": "execute_result"
    }
   ],
   "source": [
    "tools = [arxiv, wikipedia, duck_search, vqa_tool]\n",
    "tools_by_name = {tool.name: tool for tool in tools}\n",
    "\n",
    "tools_by_name"
   ]
  },
  {
   "cell_type": "markdown",
   "metadata": {},
   "source": [
    "## Generate Agent"
   ]
  },
  {
   "cell_type": "markdown",
   "metadata": {},
   "source": [
    "### State"
   ]
  },
  {
   "cell_type": "code",
   "execution_count": 93,
   "metadata": {},
   "outputs": [],
   "source": [
    "class Analyst(BaseModel):\n",
    "    name: str = Field(\n",
    "        description=\"Name of the analyst.\"\n",
    "    )\n",
    "    description: str = Field(\n",
    "        description=\"Description of the analyst focus, concerns, and motives.\",\n",
    "    )\n",
    "    tools: List[str]\n",
    "\n",
    "    system_prompt: str = Field(\n",
    "        description=\"System prompt for the analyst.\",\n",
    "    )\n",
    "    \n",
    "    @property\n",
    "    def affiliation(self) -> str:\n",
    "        return f\"{self.name} Agent for VQA\"\n",
    "    \n",
    "    @property\n",
    "    def persona(self) -> str:\n",
    "        return f\"Name: {self.affiliation}\\nTools: {self.tools}\\nDescription: {self.description}\""
   ]
  },
  {
   "cell_type": "code",
   "execution_count": 94,
   "metadata": {},
   "outputs": [],
   "source": [
    "class GenerateAnalystsState(TypedDict):\n",
    "    question: str\n",
    "    image: str\n",
    "    caption: str\n",
    "    analysts: List[Analyst] "
   ]
  },
  {
   "cell_type": "markdown",
   "metadata": {},
   "source": [
    "### Node"
   ]
  },
  {
   "cell_type": "code",
   "execution_count": 95,
   "metadata": {},
   "outputs": [],
   "source": [
    "def create_analysts(state: GenerateAnalystsState):\n",
    "    analyst_specs = {\n",
    "        \"junior\": {\n",
    "            \"name\": \"Junior\",\n",
    "            \"description\": \"A junior analyst who uses only the vanilla VQA model to generate candidate answers.\",\n",
    "            \"tools\": [\"vqa_tool\"],\n",
    "            \"system_prompt\": \"\"\"You are junior analyst. Please provide the actions for the given task.\n",
    "                                ===\n",
    "                                The actions should be in [Action_1].\n",
    "                                Action_1 (vqa_tool) is that you need to refer candidate answers to answer questions.\n",
    "                                ===\n",
    "                                task: {task}\n",
    "                                the response should be like this: Action_1\n",
    "                            \"\"\"\n",
    "        },\n",
    "        \"senior\": {\n",
    "            \"name\": \"Senior\",\n",
    "            \"description\": \"A senior analyst who uses both the VQA model and KBs retrieval to enhance answers.\",\n",
    "            \"tools\": [\"vqa_tool\", \"arxiv\", \"wikipedia\", \"duckduckgo_results_json\"],\n",
    "            \"system_prompt\": \"\"\"\n",
    "                You are a senior analyst. For every incoming question, you **must**:\n",
    "\n",
    "                1. **Action_1 (vqa_tool):** Perform visual question answering on any provided image(s).  \n",
    "                2. **Action_2 (arxiv, wikipedia, duckduckgo_results_json):** Retrieve supporting background knowledge.\n",
    "\n",
    "                **Procedure**  \n",
    "                - Always start with Action_1.  \n",
    "                - Then immediately follow with Action_2.\n",
    "            \"\"\"\n",
    "        },\n",
    "        # \"manager\": {\n",
    "        #     \"name\": \"Manager\",\n",
    "        #     \"description\": \"A manager analyst with access to all tools including LLM-based knowledge generation.\",\n",
    "        #     \"tools\": [\"arxiv\", \"wikipedia\", \"duckduckgo_results_json\"]\n",
    "        # }\n",
    "    }\n",
    "\n",
    "    # Tạo list các Analyst object\n",
    "    analysts = [Analyst(**spec) for spec in analyst_specs.values()]\n",
    "\n",
    "    return {\"analysts\": analysts}\n",
    "\n",
    "def init_caption(state: GenerateAnalystsState):\n",
    "    \n",
    "    return {\"caption\": state[\"caption\"]}"
   ]
  },
  {
   "cell_type": "markdown",
   "metadata": {},
   "source": [
    "### Build graph"
   ]
  },
  {
   "cell_type": "code",
   "execution_count": 96,
   "metadata": {},
   "outputs": [
    {
     "data": {
      "image/png": "[encoded data removed]",
      "text/plain": [
       "<IPython.core.display.Image object>"
      ]
     },
     "metadata": {},
     "output_type": "display_data"
    }
   ],
   "source": [
    "# Add nodes and edges\n",
    "builder = StateGraph(GenerateAnalystsState)\n",
    "builder.add_node(\"create_analysts\", create_analysts)\n",
    "\n",
    "builder.add_edge(START, \"create_analysts\")\n",
    "builder.add_edge(\"create_analysts\", END)\n",
    "\n",
    "# Compile\n",
    "memory = MemorySaver()\n",
    "gen_analysis_graph = builder.compile(checkpointer=memory)\n",
    "\n",
    "# View\n",
    "display(Image(gen_analysis_graph.get_graph(xray=1).draw_mermaid_png()))"
   ]
  },
  {
   "cell_type": "code",
   "execution_count": 97,
   "metadata": {},
   "outputs": [],
   "source": [
    "thread = {\"configurable\": {\"thread_id\": \"1\"}}\n",
    "analysts = gen_analysis_graph.invoke({\"question\": \"What color is the dog's fur?\"}, thread)"
   ]
  },
  {
   "cell_type": "code",
   "execution_count": 98,
   "metadata": {},
   "outputs": [
    {
     "data": {
      "text/plain": [
       "Analyst(name='Senior', description='A senior analyst who uses both the VQA model and KBs retrieval to enhance answers.', tools=['vqa_tool', 'arxiv', 'wikipedia', 'duckduckgo_results_json'], system_prompt='You are a senior analyst tasked with answering complex questions by combining visual analysis and knowledge retrieval.\\n                        ===\\n                        The actions should be in [Action_1, Action_2, Action_3].\\n                        Action_1 (vqa_tool) is that you need to refer candidate answers to answer questions.\\n                        Action_2 (arxiv, wikipedia) is that you need retrieve knowledge from KBs to answer questions.\\n                        ===\\n                        task: {task}\\n                        the response should be like this: Action_1, Action_2\\n                    ')"
      ]
     },
     "execution_count": 98,
     "metadata": {},
     "output_type": "execute_result"
    }
   ],
   "source": [
    "senior_des = analysts[\"analysts\"][1]\n",
    "senior_des"
   ]
  },
  {
   "cell_type": "markdown",
   "metadata": {},
   "source": [
    "## Visual-research Agent"
   ]
  },
  {
   "cell_type": "markdown",
   "metadata": {},
   "source": [
    "### State"
   ]
  },
  {
   "cell_type": "code",
   "execution_count": 99,
   "metadata": {},
   "outputs": [],
   "source": [
    "class ViReAgentState(MessagesState):\n",
    "    question: str\n",
    "    image: str\n",
    "    analysts: List[Analyst]\n",
    "    results: Annotated[List[str], operator.add] = []\n",
    "\n",
    "\n",
    "class ViReJuniorState(MessagesState):\n",
    "    question: str\n",
    "    image: str\n",
    "    analyst: Analyst\n",
    "    number_of_steps: int = 0\n",
    "    answer_candidate: str= \"\"\n",
    "\n",
    "class ViReSeniorState(MessagesState):\n",
    "    question: str\n",
    "    image: str\n",
    "    analyst: Analyst\n",
    "    number_of_steps: int = 0\n",
    "    answer_candidate: str = \"\"\n",
    "    KBs_Knowledge: Annotated[List[str], operator.add] = []\n",
    "\n",
    "class ViReManagerState(MessagesState):\n",
    "    question: str\n",
    "    image: str\n",
    "    analyst: Analyst\n",
    "    number_of_steps: int = 0\n",
    "    answer_candidate: str = \"\"\n",
    "    KBs_Knowledge: Annotated[List[str], operator.add] = []\n",
    "    LLM_Knowledge: str = \"\"\n"
   ]
  },
  {
   "cell_type": "markdown",
   "metadata": {},
   "source": [
    "### Node"
   ]
  },
  {
   "cell_type": "code",
   "execution_count": 100,
   "metadata": {},
   "outputs": [],
   "source": [
    "from langchain_core.runnables import RunnableConfig\n",
    "import json\n",
    "from langchain_core.messages import ToolMessage\n",
    "\n",
    "\n",
    "def tool_node(state: Union[ViReJuniorState, ViReSeniorState, ViReManagerState]):\n",
    "    outputs = []\n",
    "    tool_calls = state[\"messages\"][-1].tool_calls\n",
    "    print(f\"Processing {len(tool_calls)} tool calls\")\n",
    "    \n",
    "    updates = {\"messages\": outputs}\n",
    "\n",
    "    for tool_call in tool_calls:\n",
    "        tool_name = tool_call[\"name\"]\n",
    "        try:\n",
    "            if tool_name == \"vqa_tool\":\n",
    "                print(f\"Processing vqa_tool calls\")\n",
    "                args = tool_call[\"args\"]\n",
    "                if not args.get(\"image_url\"):\n",
    "                    args[\"image_url\"] = state.get(\"image\")\n",
    "                result = vqa_tool(args)\n",
    "                print(f\"Result: {result}\")\n",
    "                updates[\"answer_candidate\"] = result\n",
    "            elif tool_name in [\"arxiv\", \"wikipedia\", \"duckduckgo_results_json\"]:\n",
    "                print(f\"Processing {tool_name} calls\")\n",
    "                result = tools_by_name[tool_name].invoke(tool_call[\"args\"])\n",
    "                print(f\"Result: {result}\")\n",
    "                if \"KBs_Knowledge\" not in updates:\n",
    "                    updates[\"KBs_Knowledge\"] = []\n",
    "                if isinstance(result, str):\n",
    "                    updates[\"KBs_Knowledge\"].append(result)\n",
    "                elif isinstance(result, list):\n",
    "                    updates[\"KBs_Knowledge\"].extend(result)\n",
    "            else:\n",
    "                result = f\"Unknown tool: {tool_name}\"\n",
    "\n",
    "            outputs.append(\n",
    "                ToolMessage(\n",
    "                    content=json.dumps(result),\n",
    "                    name=tool_name,\n",
    "                    tool_call_id=tool_call[\"id\"],\n",
    "                )\n",
    "            )\n",
    "        except Exception as e:\n",
    "            print(f\"Error processing tool {tool_name}: {e}\")\n",
    "            outputs.append(\n",
    "                ToolMessage(\n",
    "                    content=f\"Error: {str(e)}\",\n",
    "                    name=tool_name,\n",
    "                    tool_call_id=tool_call[\"id\"],\n",
    "                )\n",
    "            )\n",
    "    return updates\n",
    "\n",
    "\n",
    "# Define the node that calls the model\n",
    "def call_vire_agent(\n",
    "    state: Union[ViReJuniorState, ViReSeniorState, ViReManagerState],\n",
    "    config: RunnableConfig,\n",
    "):\n",
    "    tools = state[\"analyst\"].tools\n",
    "    tools = [tools_by_name[tool] for tool in tools]\n",
    "    llm: ChatOpenAI = ChatOpenAI(\n",
    "        base_url=\"http://127.0.0.1:1234/v1\",\n",
    "        temperature=0,\n",
    "        api_key=\"not-needed\"\n",
    "    ).bind_tools(tools)\n",
    "    system_prompt = SystemMessage(\n",
    "        content=state[\"analyst\"].system_prompt\n",
    "    )\n",
    "    question_prompt = HumanMessage(content=f\"question: {state['question']}\")\n",
    "    history = state.get(\"messages\", [])\n",
    "    sequence = [system_prompt, question_prompt] + history\n",
    "\n",
    "    response = llm.invoke(sequence, config)\n",
    "\n",
    "    \n",
    "    updates = dict(state)  # Copy toàn bộ state hiện tại\n",
    "    updates[\"messages\"] = state[\"messages\"] + [response]  # Append response mới\n",
    "    \n",
    "    return updates\n",
    "\n",
    "\n",
    "def final_reasoning_node(state: Union[ViReJuniorState, ViReSeniorState, ViReManagerState]):\n",
    "    \"\"\"Node cuối cùng để tổng hợp kết quả và đưa ra câu trả lời final\"\"\"\n",
    "    \n",
    "    # Tạo context từ các thông tin đã thu thập\n",
    "    context_parts = []\n",
    "    \n",
    "    print(\"state:\", state)\n",
    "    # Thêm answer_candidate nếu có (từ VQA)\n",
    "    if state.get(\"answer_candidate\"):\n",
    "        context_parts.append(f\"Visual Analysis Result: {state['answer_candidate']}\")\n",
    "    \n",
    "    # Thêm KBs_Knowledge nếu có\n",
    "    if state.get(\"KBs_Knowledge\"):\n",
    "        kb_info = \"\\n\".join(state[\"KBs_Knowledge\"])\n",
    "        context_parts.append(f\"Knowledge Base Information:\\n{kb_info}\")\n",
    "    \n",
    "    # Thêm LLM_Knowledge nếu có\n",
    "    if state.get(\"LLM_Knowledge\"):\n",
    "        context_parts.append(f\"LLM Generated Knowledge: {state['LLM_Knowledge']}\")\n",
    "    \n",
    "    # Tạo final reasoning prompt\n",
    "    context = \"\\n\\n\".join(context_parts)\n",
    "    \n",
    "    final_system_prompt = f\"\"\"\n",
    "    You are a {state['analyst'].name} analyst. Based on the information gathered from various tools, \n",
    "    provide a comprehensive and final answer to the user's question.\n",
    "    \n",
    "    Available Information:\n",
    "    {context}\n",
    "    \n",
    "    Original Question: {state['question']}\n",
    "    \n",
    "    Instructions:\n",
    "    1. Analyze all available information\n",
    "    2. Synthesize the findings\n",
    "    3. Provide a clear, concise final answer\n",
    "    4. Explain your reasoning briefly\n",
    "    \"\"\"\n",
    "    \n",
    "    llm = ChatOpenAI(\n",
    "        base_url=\"http://127.0.0.1:1234/v1\",\n",
    "        temperature=0.1,  \n",
    "        api_key=\"not-needed\"\n",
    "    )\n",
    "    \n",
    "    system_msg = SystemMessage(content=final_system_prompt)\n",
    "    human_msg = HumanMessage(content=\"Please provide your final analysis and answer.\")\n",
    "    \n",
    "    final_response = llm.invoke([system_msg, human_msg])\n",
    "    print(\"answer_candidate:\", state.get(\"answer_candidate\", None))\n",
    "    \n",
    "\n",
    "    return {\n",
    "        \"messages\": [final_response],\n",
    "        \"results\": [final_response.content],\n",
    "        \"number_of_steps\": state.get(\"number_of_steps\", 0) + 1\n",
    "    }\n",
    "\n",
    "\n",
    "\n",
    "def should_continue(state: Union[ViReJuniorState, ViReSeniorState, ViReManagerState]):\n",
    "    messages = state[\"messages\"]\n",
    "    last_message = messages[-1]\n",
    "    \n",
    "    # Nếu không có tool calls, chuyển sang final reasoning\n",
    "    if not last_message.tool_calls:\n",
    "        return \"final_reasoning\"\n",
    "    # Nếu có tool calls, tiếp tục với tools\n",
    "    else:\n",
    "        return \"continue\""
   ]
  },
  {
   "cell_type": "markdown",
   "metadata": {},
   "source": [
    "### Graph"
   ]
  },
  {
   "cell_type": "code",
   "execution_count": 101,
   "metadata": {},
   "outputs": [],
   "source": [
    "from langgraph.graph import StateGraph, END\n",
    "\n",
    "def create_junior_subgraph():\n",
    "    \"\"\"Tạo subgraph cho Junior Analyst\"\"\"\n",
    "    workflow = StateGraph(ViReJuniorState)\n",
    "    \n",
    "    workflow.add_node(\"agent\", call_vire_agent)\n",
    "    workflow.add_node(\"tools\", tool_node)\n",
    "    workflow.add_node(\"final_reasoning\", final_reasoning_node)\n",
    "    \n",
    "    workflow.set_entry_point(\"agent\")\n",
    "    workflow.add_conditional_edges(\"agent\", should_continue, {\n",
    "        \"continue\": \"tools\",\n",
    "        \"final_reasoning\": \"final_reasoning\"\n",
    "    })\n",
    "    workflow.add_edge(\"tools\", \"agent\")\n",
    "    workflow.add_edge(\"final_reasoning\", END)\n",
    "    \n",
    "    return workflow.compile()\n",
    "\n",
    "def create_senior_subgraph():\n",
    "    \"\"\"Tạo subgraph cho Senior Analyst\"\"\"\n",
    "    workflow = StateGraph(ViReSeniorState)\n",
    "    \n",
    "    workflow.add_node(\"agent\", call_vire_agent)\n",
    "    workflow.add_node(\"tools\", tool_node)\n",
    "    workflow.add_node(\"final_reasoning\", final_reasoning_node)\n",
    "    \n",
    "    workflow.set_entry_point(\"agent\")\n",
    "    workflow.add_conditional_edges(\"agent\", should_continue, {\n",
    "        \"continue\": \"tools\",\n",
    "        \"final_reasoning\": \"final_reasoning\"\n",
    "    })\n",
    "    workflow.add_edge(\"tools\", \"agent\")\n",
    "    workflow.add_edge(\"final_reasoning\", END)\n",
    "    \n",
    "    return workflow.compile()\n",
    "\n",
    "def create_manager_subgraph():\n",
    "    \"\"\"Tạo subgraph cho Manager Analyst\"\"\"\n",
    "    workflow = StateGraph(ViReManagerState)\n",
    "    \n",
    "    workflow.add_node(\"agent\", call_vire_agent)\n",
    "    workflow.add_node(\"tools\", tool_node)\n",
    "    workflow.add_node(\"final_reasoning\", final_reasoning_node)\n",
    "    \n",
    "    workflow.set_entry_point(\"agent\")\n",
    "    workflow.add_conditional_edges(\"agent\", should_continue, {\n",
    "        \"continue\": \"tools\",\n",
    "        \"final_reasoning\": \"final_reasoning\"\n",
    "    })\n",
    "    workflow.add_edge(\"tools\", \"agent\")\n",
    "    workflow.add_edge(\"final_reasoning\", END)\n",
    "    \n",
    "    return workflow.compile()\n"
   ]
  },
  {
   "cell_type": "code",
   "execution_count": 102,
   "metadata": {},
   "outputs": [
    {
     "data": {
      "image/png": "[encoded data removed]",
      "text/plain": [
       "<IPython.core.display.Image object>"
      ]
     },
     "metadata": {},
     "output_type": "display_data"
    }
   ],
   "source": [
    "senior_agent = create_senior_subgraph()\n",
    "display(Image(senior_agent.get_graph().draw_mermaid_png()))"
   ]
  },
  {
   "cell_type": "code",
   "execution_count": 103,
   "metadata": {},
   "outputs": [
    {
     "name": "stdout",
     "output_type": "stream",
     "text": [
      "Processing 1 tool calls\n",
      "Processing wikipedia calls\n",
      "Result: Page: Dog coat\n",
      "Summary: The coat of the domestic dog refers to the hair that covers its body. Dogs demonstrate a wide range of coat colors, patterns, textures, and lengths. \n",
      "As with other mammals, a dog's fur has many uses, including thermoregulation and protection from cuts or scratches; furthermore, a dog's coat plays an important role in the showing of purebred dogs. Breed standards often include a detailed description of the nature and attributes of that breed's ideal coat. \n",
      "A dog's coat is composed of two layers: a top coat of stiff guard hairs that help repel water and shield from dirt, and an undercoat of soft down hairs, to serve as insulation. Dogs with both under coat and top coat are said to have a double coat. Dogs with a single coat have a coat composed solely of guard hairs, with little or no downy undercoat.\n",
      "The terms fur and hair are often used interchangeably when describing a dog's coat, however in general, a double coat, like that of the Newfoundland and most livestock guardian dogs, is referred to as a fur coat, while a single coat, like that of the Poodle, is referred to as a hair coat.\n",
      "\n",
      "Page: Liver (color)\n",
      "Summary: Liver is a color name for a kind of brown, first recorded as such in English in 1686. It may refer to the color of the organ.\n",
      "In particular, Liver describes a dark brown color in the coats of dogs and horses.\n",
      "\n",
      "\n",
      "\n",
      "Page: Dog anatomy\n",
      "Summary: Dog anatomy comprises the anatomical study of the visible parts of the body of a domestic dog. Details of structures vary tremendously from breed to breed, more than in any other animal species, wild or domesticated, as dogs are highly variable in height and weight. The smallest known adult dog was a Yorkshire Terrier that stood only 6.3 cm (2.5 in) at the shoulder, 9.5 cm (3.7 in) in length along the head and body, and weighed only 113 grams (4.0 oz). The heaviest dog was an English Mastiff named Zorba, which weighed 314 pounds (142 kg). The tallest known adult dog is a Great Dane that stands 106.7 cm (42.0 in) at the shoulder.\n",
      "state: {'messages': [AIMessage(content='', additional_kwargs={'tool_calls': [{'id': '368489089', 'function': {'arguments': '{\"query\":\"What color is the dog\\'s fur?\"}', 'name': 'wikipedia'}, 'type': 'function'}], 'refusal': None}, response_metadata={'token_usage': {'completion_tokens': 644, 'prompt_tokens': 518, 'total_tokens': 1162, 'completion_tokens_details': None, 'prompt_tokens_details': None}, 'model_name': 'qwen3-1.7b', 'system_fingerprint': 'qwen3-1.7b', 'id': 'chatcmpl-xcxpwzgixne2grmf6uif17', 'service_tier': None, 'finish_reason': 'tool_calls', 'logprobs': None}, id='run--250b31c9-720f-4119-9fbc-f7efc5502149-0', tool_calls=[{'name': 'wikipedia', 'args': {'query': \"What color is the dog's fur?\"}, 'id': '368489089', 'type': 'tool_call'}], usage_metadata={'input_tokens': 518, 'output_tokens': 644, 'total_tokens': 1162, 'input_token_details': {}, 'output_token_details': {}}), ToolMessage(content='\"Page: Dog coat\\\\nSummary: The coat of the domestic dog refers to the hair that covers its body. Dogs demonstrate a wide range of coat colors, patterns, textures, and lengths. \\\\nAs with other mammals, a dog\\'s fur has many uses, including thermoregulation and protection from cuts or scratches; furthermore, a dog\\'s coat plays an important role in the showing of purebred dogs. Breed standards often include a detailed description of the nature and attributes of that breed\\'s ideal coat. \\\\nA dog\\'s coat is composed of two layers: a top coat of stiff guard hairs that help repel water and shield from dirt, and an undercoat of soft down hairs, to serve as insulation. Dogs with both under coat and top coat are said to have a double coat. Dogs with a single coat have a coat composed solely of guard hairs, with little or no downy undercoat.\\\\nThe terms fur and hair are often used interchangeably when describing a dog\\'s coat, however in general, a double coat, like that of the Newfoundland and most livestock guardian dogs, is referred to as a fur coat, while a single coat, like that of the Poodle, is referred to as a hair coat.\\\\n\\\\nPage: Liver (color)\\\\nSummary: Liver is a color name for a kind of brown, first recorded as such in English in 1686. It may refer to the color of the organ.\\\\nIn particular, Liver describes a dark brown color in the coats of dogs and horses.\\\\n\\\\n\\\\n\\\\nPage: Dog anatomy\\\\nSummary: Dog anatomy comprises the anatomical study of the visible parts of the body of a domestic dog. Details of structures vary tremendously from breed to breed, more than in any other animal species, wild or domesticated, as dogs are highly variable in height and weight. The smallest known adult dog was a Yorkshire Terrier that stood only 6.3 cm (2.5 in) at the shoulder, 9.5 cm (3.7 in) in length along the head and body, and weighed only 113 grams (4.0 oz). The heaviest dog was an English Mastiff named Zorba, which weighed 314 pounds (142 kg). The tallest known adult dog is a Great Dane that stands 106.7 cm (42.0 in) at the shoulder.\"', name='wikipedia', id='0dfa8b75-a162-4ede-bc82-0b562f8d7836', tool_call_id='368489089'), AIMessage(content='<think>\\nOkay, let\\'s see. The user asked, \"What color is the dog\\'s fur?\" I used the Wikipedia tool to look up the page about dogs. The summary mentions that a dog\\'s coat can have various colors, including brown, as noted in the Liver (color) page. It also says that the color of the dog\\'s coat can be described as liver-colored, which is dark brown. \\n\\nSo, the answer should be that the dog\\'s fur can vary in color, but common colors include brown. However, the question isn\\'t specific to a particular breed or context. The Wikipedia summary doesn\\'t give a single definitive color but rather mentions that it\\'s a range of colors. \\n\\nWait, but maybe the user is expecting a specific answer. Since the page mentions liver color specifically for dogs and horses, perhaps the answer is that the dog\\'s fur can be liver-colored. But I need to check if there\\'s more information. The summary also talks about different coat types (double or single) but doesn\\'t specify a particular color. \\n\\nSo the best answer would be that the dog\\'s fur can vary in color, with some examples being liver brown. However, since the question is general, maybe it\\'s better to state that the color depends on the breed and individual, but common colors include brown. But the user might want a specific answer. Wait, the initial query was about the dog\\'s fur color, and the Wikipedia result mentions liver color as a specific example. So perhaps the answer is that the dog\\'s fur can be liver-colored, which is dark brown. \\n\\nBut I should make sure there\\'s no other information. The summary also says that the coat of the domestic dog includes various colors, but doesn\\'t specify a single color. Therefore, the answer should reflect that the color varies but examples include liver brown.\\n</think>\\n\\nAction_1, Action_2', additional_kwargs={'refusal': None}, response_metadata={'token_usage': {'completion_tokens': 380, 'prompt_tokens': 1049, 'total_tokens': 1429, 'completion_tokens_details': None, 'prompt_tokens_details': None}, 'model_name': 'qwen3-1.7b', 'system_fingerprint': 'qwen3-1.7b', 'id': 'chatcmpl-1csgdu31ta4lg7diyr4t3', 'service_tier': None, 'finish_reason': 'stop', 'logprobs': None}, id='run--5b724c08-d853-4b3f-868c-a56681fccb86-0', usage_metadata={'input_tokens': 1049, 'output_tokens': 380, 'total_tokens': 1429, 'input_token_details': {}, 'output_token_details': {}})], 'question': \"What color is the dog's fur?\", 'image': 'https://github.com/NVlabs/describe-anything/blob/main/images/1.jpg?raw=true', 'analyst': Analyst(name='Senior', description='A senior analyst who uses both the VQA model and KBs retrieval to enhance answers.', tools=['vqa_tool', 'arxiv', 'wikipedia', 'duckduckgo_results_json'], system_prompt='You are a senior analyst tasked with answering complex questions by combining visual analysis and knowledge retrieval.\\n                        ===\\n                        The actions should be in [Action_1, Action_2, Action_3].\\n                        Action_1 (vqa_tool) is that you need to refer candidate answers to answer questions.\\n                        Action_2 (arxiv, wikipedia) is that you need retrieve knowledge from KBs to answer questions.\\n                        ===\\n                        task: {task}\\n                        the response should be like this: Action_1, Action_2\\n                    '), 'KBs_Knowledge': [\"Page: Dog coat\\nSummary: The coat of the domestic dog refers to the hair that covers its body. Dogs demonstrate a wide range of coat colors, patterns, textures, and lengths. \\nAs with other mammals, a dog's fur has many uses, including thermoregulation and protection from cuts or scratches; furthermore, a dog's coat plays an important role in the showing of purebred dogs. Breed standards often include a detailed description of the nature and attributes of that breed's ideal coat. \\nA dog's coat is composed of two layers: a top coat of stiff guard hairs that help repel water and shield from dirt, and an undercoat of soft down hairs, to serve as insulation. Dogs with both under coat and top coat are said to have a double coat. Dogs with a single coat have a coat composed solely of guard hairs, with little or no downy undercoat.\\nThe terms fur and hair are often used interchangeably when describing a dog's coat, however in general, a double coat, like that of the Newfoundland and most livestock guardian dogs, is referred to as a fur coat, while a single coat, like that of the Poodle, is referred to as a hair coat.\\n\\nPage: Liver (color)\\nSummary: Liver is a color name for a kind of brown, first recorded as such in English in 1686. It may refer to the color of the organ.\\nIn particular, Liver describes a dark brown color in the coats of dogs and horses.\\n\\n\\n\\nPage: Dog anatomy\\nSummary: Dog anatomy comprises the anatomical study of the visible parts of the body of a domestic dog. Details of structures vary tremendously from breed to breed, more than in any other animal species, wild or domesticated, as dogs are highly variable in height and weight. The smallest known adult dog was a Yorkshire Terrier that stood only 6.3 cm (2.5 in) at the shoulder, 9.5 cm (3.7 in) in length along the head and body, and weighed only 113 grams (4.0 oz). The heaviest dog was an English Mastiff named Zorba, which weighed 314 pounds (142 kg). The tallest known adult dog is a Great Dane that stands 106.7 cm (42.0 in) at the shoulder.\", \"Page: Dog coat\\nSummary: The coat of the domestic dog refers to the hair that covers its body. Dogs demonstrate a wide range of coat colors, patterns, textures, and lengths. \\nAs with other mammals, a dog's fur has many uses, including thermoregulation and protection from cuts or scratches; furthermore, a dog's coat plays an important role in the showing of purebred dogs. Breed standards often include a detailed description of the nature and attributes of that breed's ideal coat. \\nA dog's coat is composed of two layers: a top coat of stiff guard hairs that help repel water and shield from dirt, and an undercoat of soft down hairs, to serve as insulation. Dogs with both under coat and top coat are said to have a double coat. Dogs with a single coat have a coat composed solely of guard hairs, with little or no downy undercoat.\\nThe terms fur and hair are often used interchangeably when describing a dog's coat, however in general, a double coat, like that of the Newfoundland and most livestock guardian dogs, is referred to as a fur coat, while a single coat, like that of the Poodle, is referred to as a hair coat.\\n\\nPage: Liver (color)\\nSummary: Liver is a color name for a kind of brown, first recorded as such in English in 1686. It may refer to the color of the organ.\\nIn particular, Liver describes a dark brown color in the coats of dogs and horses.\\n\\n\\n\\nPage: Dog anatomy\\nSummary: Dog anatomy comprises the anatomical study of the visible parts of the body of a domestic dog. Details of structures vary tremendously from breed to breed, more than in any other animal species, wild or domesticated, as dogs are highly variable in height and weight. The smallest known adult dog was a Yorkshire Terrier that stood only 6.3 cm (2.5 in) at the shoulder, 9.5 cm (3.7 in) in length along the head and body, and weighed only 113 grams (4.0 oz). The heaviest dog was an English Mastiff named Zorba, which weighed 314 pounds (142 kg). The tallest known adult dog is a Great Dane that stands 106.7 cm (42.0 in) at the shoulder.\"]}\n",
      "answer_candidate: None\n",
      "{'messages': [AIMessage(content='', additional_kwargs={'tool_calls': [{'id': '368489089', 'function': {'arguments': '{\"query\":\"What color is the dog\\'s fur?\"}', 'name': 'wikipedia'}, 'type': 'function'}], 'refusal': None}, response_metadata={'token_usage': {'completion_tokens': 644, 'prompt_tokens': 518, 'total_tokens': 1162, 'completion_tokens_details': None, 'prompt_tokens_details': None}, 'model_name': 'qwen3-1.7b', 'system_fingerprint': 'qwen3-1.7b', 'id': 'chatcmpl-xcxpwzgixne2grmf6uif17', 'service_tier': None, 'finish_reason': 'tool_calls', 'logprobs': None}, id='run--250b31c9-720f-4119-9fbc-f7efc5502149-0', tool_calls=[{'name': 'wikipedia', 'args': {'query': \"What color is the dog's fur?\"}, 'id': '368489089', 'type': 'tool_call'}], usage_metadata={'input_tokens': 518, 'output_tokens': 644, 'total_tokens': 1162, 'input_token_details': {}, 'output_token_details': {}}), ToolMessage(content='\"Page: Dog coat\\\\nSummary: The coat of the domestic dog refers to the hair that covers its body. Dogs demonstrate a wide range of coat colors, patterns, textures, and lengths. \\\\nAs with other mammals, a dog\\'s fur has many uses, including thermoregulation and protection from cuts or scratches; furthermore, a dog\\'s coat plays an important role in the showing of purebred dogs. Breed standards often include a detailed description of the nature and attributes of that breed\\'s ideal coat. \\\\nA dog\\'s coat is composed of two layers: a top coat of stiff guard hairs that help repel water and shield from dirt, and an undercoat of soft down hairs, to serve as insulation. Dogs with both under coat and top coat are said to have a double coat. Dogs with a single coat have a coat composed solely of guard hairs, with little or no downy undercoat.\\\\nThe terms fur and hair are often used interchangeably when describing a dog\\'s coat, however in general, a double coat, like that of the Newfoundland and most livestock guardian dogs, is referred to as a fur coat, while a single coat, like that of the Poodle, is referred to as a hair coat.\\\\n\\\\nPage: Liver (color)\\\\nSummary: Liver is a color name for a kind of brown, first recorded as such in English in 1686. It may refer to the color of the organ.\\\\nIn particular, Liver describes a dark brown color in the coats of dogs and horses.\\\\n\\\\n\\\\n\\\\nPage: Dog anatomy\\\\nSummary: Dog anatomy comprises the anatomical study of the visible parts of the body of a domestic dog. Details of structures vary tremendously from breed to breed, more than in any other animal species, wild or domesticated, as dogs are highly variable in height and weight. The smallest known adult dog was a Yorkshire Terrier that stood only 6.3 cm (2.5 in) at the shoulder, 9.5 cm (3.7 in) in length along the head and body, and weighed only 113 grams (4.0 oz). The heaviest dog was an English Mastiff named Zorba, which weighed 314 pounds (142 kg). The tallest known adult dog is a Great Dane that stands 106.7 cm (42.0 in) at the shoulder.\"', name='wikipedia', id='0dfa8b75-a162-4ede-bc82-0b562f8d7836', tool_call_id='368489089'), AIMessage(content='<think>\\nOkay, let\\'s see. The user asked, \"What color is the dog\\'s fur?\" I used the Wikipedia tool to look up the page about dogs. The summary mentions that a dog\\'s coat can have various colors, including brown, as noted in the Liver (color) page. It also says that the color of the dog\\'s coat can be described as liver-colored, which is dark brown. \\n\\nSo, the answer should be that the dog\\'s fur can vary in color, but common colors include brown. However, the question isn\\'t specific to a particular breed or context. The Wikipedia summary doesn\\'t give a single definitive color but rather mentions that it\\'s a range of colors. \\n\\nWait, but maybe the user is expecting a specific answer. Since the page mentions liver color specifically for dogs and horses, perhaps the answer is that the dog\\'s fur can be liver-colored. But I need to check if there\\'s more information. The summary also talks about different coat types (double or single) but doesn\\'t specify a particular color. \\n\\nSo the best answer would be that the dog\\'s fur can vary in color, with some examples being liver brown. However, since the question is general, maybe it\\'s better to state that the color depends on the breed and individual, but common colors include brown. But the user might want a specific answer. Wait, the initial query was about the dog\\'s fur color, and the Wikipedia result mentions liver color as a specific example. So perhaps the answer is that the dog\\'s fur can be liver-colored, which is dark brown. \\n\\nBut I should make sure there\\'s no other information. The summary also says that the coat of the domestic dog includes various colors, but doesn\\'t specify a single color. Therefore, the answer should reflect that the color varies but examples include liver brown.\\n</think>\\n\\nAction_1, Action_2', additional_kwargs={'refusal': None}, response_metadata={'token_usage': {'completion_tokens': 380, 'prompt_tokens': 1049, 'total_tokens': 1429, 'completion_tokens_details': None, 'prompt_tokens_details': None}, 'model_name': 'qwen3-1.7b', 'system_fingerprint': 'qwen3-1.7b', 'id': 'chatcmpl-1csgdu31ta4lg7diyr4t3', 'service_tier': None, 'finish_reason': 'stop', 'logprobs': None}, id='run--5b724c08-d853-4b3f-868c-a56681fccb86-0', usage_metadata={'input_tokens': 1049, 'output_tokens': 380, 'total_tokens': 1429, 'input_token_details': {}, 'output_token_details': {}}), AIMessage(content='<think>\\nOkay, let\\'s tackle this question: \"What color is the dog\\'s fur?\" \\n\\nFirst, I need to look at the available information provided. There are a few pages related to dogs\\' coats and liver color. The first page about the dog coat says that dogs have a wide range of coat colors, patterns, textures, and lengths. It mentions that the terms \"fur\" and \"hair\" are often used interchangeably, but double coats (like Newfoundland) are called fur coats, while single coats (like Poodles) are hair coats.\\n\\nAnother page on liver color notes that \"Liver\" refers to a dark brown color in dogs and horses. But the question is about the dog\\'s fur color, not the liver\\'s color. However, there\\'s a mention that Liver describes a dark brown color in the coats of dogs and horses. So maybe the answer relates to the liver color being dark brown, which could be the fur\\'s color.\\n\\nBut wait, the original question is about the color of the dog\\'s fur. The information says that dogs have a wide range of coat colors. So the answer isn\\'t a single color but varies. However, the user might be looking for a general answer based on the given info. \\n\\nThe liver color part mentions that Liver is a dark brown color in dogs\\' coats. But does that mean the fur is always dark brown? Or is it just one example? The summary says \"Liver describes a dark brown color in the coats of dogs and horses.\" So maybe the fur can be dark brown, but there are other colors too.\\n\\nThe user might be expecting a specific answer, but based on the provided info, the answer should state that dogs\\' fur can have various colors, with some examples like dark brown (as per liver color), but it\\'s not a single color. However, since the question is general, the answer would need to reflect that there\\'s a wide range and mention the possible dark brown as an example.\\n</think>\\n\\nThe dog\\'s fur color varies widely across breeds and individuals, with no single \"color\" universally applicable. While some sources note that the liver (a term for a dark brown color in animals) may describe a specific shade in dogs\\' coats, this is not the sole or definitive characteristic of all dog fur. The coat\\'s color depends on genetics, breed standards, and individual variation. For example, common colors include black, white, yellow, red, and patterns like solid, spotted, or striped. \\n\\n**Final Answer:**  \\nDogs have a diverse range of fur colors, with dark brown (as noted in liver-related contexts) being one possible shade, but the exact color varies by breed and individual. The answer emphasizes variability rather than a single color.', additional_kwargs={'refusal': None}, response_metadata={'token_usage': {'completion_tokens': 554, 'prompt_tokens': 1081, 'total_tokens': 1635, 'completion_tokens_details': None, 'prompt_tokens_details': None}, 'model_name': 'qwen3-1.7b', 'system_fingerprint': 'qwen3-1.7b', 'id': 'chatcmpl-jusouztet109zw113lpjgo', 'service_tier': None, 'finish_reason': 'stop', 'logprobs': None}, id='run--f9ecf7d1-7ae3-40c2-8f89-4a373a502fa1-0', usage_metadata={'input_tokens': 1081, 'output_tokens': 554, 'total_tokens': 1635, 'input_token_details': {}, 'output_token_details': {}})], 'question': \"What color is the dog's fur?\", 'image': 'https://github.com/NVlabs/describe-anything/blob/main/images/1.jpg?raw=true', 'analyst': Analyst(name='Senior', description='A senior analyst who uses both the VQA model and KBs retrieval to enhance answers.', tools=['vqa_tool', 'arxiv', 'wikipedia', 'duckduckgo_results_json'], system_prompt='You are a senior analyst tasked with answering complex questions by combining visual analysis and knowledge retrieval.\\n                        ===\\n                        The actions should be in [Action_1, Action_2, Action_3].\\n                        Action_1 (vqa_tool) is that you need to refer candidate answers to answer questions.\\n                        Action_2 (arxiv, wikipedia) is that you need retrieve knowledge from KBs to answer questions.\\n                        ===\\n                        task: {task}\\n                        the response should be like this: Action_1, Action_2\\n                    '), 'number_of_steps': 1, 'KBs_Knowledge': [\"Page: Dog coat\\nSummary: The coat of the domestic dog refers to the hair that covers its body. Dogs demonstrate a wide range of coat colors, patterns, textures, and lengths. \\nAs with other mammals, a dog's fur has many uses, including thermoregulation and protection from cuts or scratches; furthermore, a dog's coat plays an important role in the showing of purebred dogs. Breed standards often include a detailed description of the nature and attributes of that breed's ideal coat. \\nA dog's coat is composed of two layers: a top coat of stiff guard hairs that help repel water and shield from dirt, and an undercoat of soft down hairs, to serve as insulation. Dogs with both under coat and top coat are said to have a double coat. Dogs with a single coat have a coat composed solely of guard hairs, with little or no downy undercoat.\\nThe terms fur and hair are often used interchangeably when describing a dog's coat, however in general, a double coat, like that of the Newfoundland and most livestock guardian dogs, is referred to as a fur coat, while a single coat, like that of the Poodle, is referred to as a hair coat.\\n\\nPage: Liver (color)\\nSummary: Liver is a color name for a kind of brown, first recorded as such in English in 1686. It may refer to the color of the organ.\\nIn particular, Liver describes a dark brown color in the coats of dogs and horses.\\n\\n\\n\\nPage: Dog anatomy\\nSummary: Dog anatomy comprises the anatomical study of the visible parts of the body of a domestic dog. Details of structures vary tremendously from breed to breed, more than in any other animal species, wild or domesticated, as dogs are highly variable in height and weight. The smallest known adult dog was a Yorkshire Terrier that stood only 6.3 cm (2.5 in) at the shoulder, 9.5 cm (3.7 in) in length along the head and body, and weighed only 113 grams (4.0 oz). The heaviest dog was an English Mastiff named Zorba, which weighed 314 pounds (142 kg). The tallest known adult dog is a Great Dane that stands 106.7 cm (42.0 in) at the shoulder.\", \"Page: Dog coat\\nSummary: The coat of the domestic dog refers to the hair that covers its body. Dogs demonstrate a wide range of coat colors, patterns, textures, and lengths. \\nAs with other mammals, a dog's fur has many uses, including thermoregulation and protection from cuts or scratches; furthermore, a dog's coat plays an important role in the showing of purebred dogs. Breed standards often include a detailed description of the nature and attributes of that breed's ideal coat. \\nA dog's coat is composed of two layers: a top coat of stiff guard hairs that help repel water and shield from dirt, and an undercoat of soft down hairs, to serve as insulation. Dogs with both under coat and top coat are said to have a double coat. Dogs with a single coat have a coat composed solely of guard hairs, with little or no downy undercoat.\\nThe terms fur and hair are often used interchangeably when describing a dog's coat, however in general, a double coat, like that of the Newfoundland and most livestock guardian dogs, is referred to as a fur coat, while a single coat, like that of the Poodle, is referred to as a hair coat.\\n\\nPage: Liver (color)\\nSummary: Liver is a color name for a kind of brown, first recorded as such in English in 1686. It may refer to the color of the organ.\\nIn particular, Liver describes a dark brown color in the coats of dogs and horses.\\n\\n\\n\\nPage: Dog anatomy\\nSummary: Dog anatomy comprises the anatomical study of the visible parts of the body of a domestic dog. Details of structures vary tremendously from breed to breed, more than in any other animal species, wild or domesticated, as dogs are highly variable in height and weight. The smallest known adult dog was a Yorkshire Terrier that stood only 6.3 cm (2.5 in) at the shoulder, 9.5 cm (3.7 in) in length along the head and body, and weighed only 113 grams (4.0 oz). The heaviest dog was an English Mastiff named Zorba, which weighed 314 pounds (142 kg). The tallest known adult dog is a Great Dane that stands 106.7 cm (42.0 in) at the shoulder.\"]}\n"
     ]
    }
   ],
   "source": [
    "URL = \"https://github.com/NVlabs/describe-anything/blob/main/images/1.jpg?raw=true\"\n",
    "Q = \"What color is the dog's fur?\"\n",
    "\n",
    "thread = {\"configurable\": {\"thread_id\": \"1\"}}\n",
    "analyst_result = senior_agent.invoke(\n",
    "    {\n",
    "        \"question\": Q,\n",
    "        \"image\": URL,\n",
    "        \"analyst\": senior_des \n",
    "    },\n",
    "    thread\n",
    ")\n",
    "\n",
    "print(analyst_result)"
   ]
  },
  {
   "cell_type": "code",
   "execution_count": 104,
   "metadata": {},
   "outputs": [
    {
     "name": "stdout",
     "output_type": "stream",
     "text": [
      "Các keys trong state: dict_keys(['messages', 'question', 'image', 'analyst', 'number_of_steps', 'KBs_Knowledge'])\n",
      "Kết quả reasoning: None\n",
      "Kết quả tổng hợp: []\n",
      "Answer candidate: None\n",
      "KBs_Knowledge: [\"Page: Dog coat\\nSummary: The coat of the domestic dog refers to the hair that covers its body. Dogs demonstrate a wide range of coat colors, patterns, textures, and lengths. \\nAs with other mammals, a dog's fur has many uses, including thermoregulation and protection from cuts or scratches; furthermore, a dog's coat plays an important role in the showing of purebred dogs. Breed standards often include a detailed description of the nature and attributes of that breed's ideal coat. \\nA dog's coat is composed of two layers: a top coat of stiff guard hairs that help repel water and shield from dirt, and an undercoat of soft down hairs, to serve as insulation. Dogs with both under coat and top coat are said to have a double coat. Dogs with a single coat have a coat composed solely of guard hairs, with little or no downy undercoat.\\nThe terms fur and hair are often used interchangeably when describing a dog's coat, however in general, a double coat, like that of the Newfoundland and most livestock guardian dogs, is referred to as a fur coat, while a single coat, like that of the Poodle, is referred to as a hair coat.\\n\\nPage: Liver (color)\\nSummary: Liver is a color name for a kind of brown, first recorded as such in English in 1686. It may refer to the color of the organ.\\nIn particular, Liver describes a dark brown color in the coats of dogs and horses.\\n\\n\\n\\nPage: Dog anatomy\\nSummary: Dog anatomy comprises the anatomical study of the visible parts of the body of a domestic dog. Details of structures vary tremendously from breed to breed, more than in any other animal species, wild or domesticated, as dogs are highly variable in height and weight. The smallest known adult dog was a Yorkshire Terrier that stood only 6.3 cm (2.5 in) at the shoulder, 9.5 cm (3.7 in) in length along the head and body, and weighed only 113 grams (4.0 oz). The heaviest dog was an English Mastiff named Zorba, which weighed 314 pounds (142 kg). The tallest known adult dog is a Great Dane that stands 106.7 cm (42.0 in) at the shoulder.\", \"Page: Dog coat\\nSummary: The coat of the domestic dog refers to the hair that covers its body. Dogs demonstrate a wide range of coat colors, patterns, textures, and lengths. \\nAs with other mammals, a dog's fur has many uses, including thermoregulation and protection from cuts or scratches; furthermore, a dog's coat plays an important role in the showing of purebred dogs. Breed standards often include a detailed description of the nature and attributes of that breed's ideal coat. \\nA dog's coat is composed of two layers: a top coat of stiff guard hairs that help repel water and shield from dirt, and an undercoat of soft down hairs, to serve as insulation. Dogs with both under coat and top coat are said to have a double coat. Dogs with a single coat have a coat composed solely of guard hairs, with little or no downy undercoat.\\nThe terms fur and hair are often used interchangeably when describing a dog's coat, however in general, a double coat, like that of the Newfoundland and most livestock guardian dogs, is referred to as a fur coat, while a single coat, like that of the Poodle, is referred to as a hair coat.\\n\\nPage: Liver (color)\\nSummary: Liver is a color name for a kind of brown, first recorded as such in English in 1686. It may refer to the color of the organ.\\nIn particular, Liver describes a dark brown color in the coats of dogs and horses.\\n\\n\\n\\nPage: Dog anatomy\\nSummary: Dog anatomy comprises the anatomical study of the visible parts of the body of a domestic dog. Details of structures vary tremendously from breed to breed, more than in any other animal species, wild or domesticated, as dogs are highly variable in height and weight. The smallest known adult dog was a Yorkshire Terrier that stood only 6.3 cm (2.5 in) at the shoulder, 9.5 cm (3.7 in) in length along the head and body, and weighed only 113 grams (4.0 oz). The heaviest dog was an English Mastiff named Zorba, which weighed 314 pounds (142 kg). The tallest known adult dog is a Great Dane that stands 106.7 cm (42.0 in) at the shoulder.\"]\n"
     ]
    }
   ],
   "source": [
    "print(\"Các keys trong state:\", analyst_result.keys())\n",
    "print(\"Kết quả reasoning:\", analyst_result.get(\"analyst_result\", None))\n",
    "print(\"Kết quả tổng hợp:\", analyst_result.get(\"results\", []))\n",
    "print(\"Answer candidate:\", analyst_result.get(\"answer_candidate\", None))\n",
    "print(\"KBs_Knowledge:\", analyst_result.get(\"KBs_Knowledge\", None))\n"
   ]
  },
  {
   "cell_type": "code",
   "execution_count": 105,
   "metadata": {},
   "outputs": [
    {
     "name": "stdout",
     "output_type": "stream",
     "text": [
      "Last message: <think>\n",
      "Okay, let's tackle this question: \"What color is the dog's fur?\" \n",
      "\n",
      "First, I need to look at the available information provided. There are a few pages related to dogs' coats and liver color. The first page about the dog coat says that dogs have a wide range of coat colors, patterns, textures, and lengths. It mentions that the terms \"fur\" and \"hair\" are often used interchangeably, but double coats (like Newfoundland) are called fur coats, while single coats (like Poodles) are hair coats.\n",
      "\n",
      "Another page on liver color notes that \"Liver\" refers to a dark brown color in dogs and horses. But the question is about the dog's fur color, not the liver's color. However, there's a mention that Liver describes a dark brown color in the coats of dogs and horses. So maybe the answer relates to the liver color being dark brown, which could be the fur's color.\n",
      "\n",
      "But wait, the original question is about the color of the dog's fur. The information says that dogs have a wide range of coat colors. So the answer isn't a single color but varies. However, the user might be looking for a general answer based on the given info. \n",
      "\n",
      "The liver color part mentions that Liver is a dark brown color in dogs' coats. But does that mean the fur is always dark brown? Or is it just one example? The summary says \"Liver describes a dark brown color in the coats of dogs and horses.\" So maybe the fur can be dark brown, but there are other colors too.\n",
      "\n",
      "The user might be expecting a specific answer, but based on the provided info, the answer should state that dogs' fur can have various colors, with some examples like dark brown (as per liver color), but it's not a single color. However, since the question is general, the answer would need to reflect that there's a wide range and mention the possible dark brown as an example.\n",
      "</think>\n",
      "\n",
      "The dog's fur color varies widely across breeds and individuals, with no single \"color\" universally applicable. While some sources note that the liver (a term for a dark brown color in animals) may describe a specific shade in dogs' coats, this is not the sole or definitive characteristic of all dog fur. The coat's color depends on genetics, breed standards, and individual variation. For example, common colors include black, white, yellow, red, and patterns like solid, spotted, or striped. \n",
      "\n",
      "**Final Answer:**  \n",
      "Dogs have a diverse range of fur colors, with dark brown (as noted in liver-related contexts) being one possible shade, but the exact color varies by breed and individual. The answer emphasizes variability rather than a single color.\n"
     ]
    }
   ],
   "source": [
    "if analyst_result.get(\"messages\"):\n",
    "    last_message = analyst_result[\"messages\"][-1]\n",
    "    print(\"Last message:\", getattr(last_message, \"content\", last_message))"
   ]
  },
  {
   "cell_type": "markdown",
   "metadata": {},
   "source": [
    "## Multi-agent voting"
   ]
  },
  {
   "cell_type": "code",
   "execution_count": 106,
   "metadata": {},
   "outputs": [],
   "source": [
    "def route_to_analysts(state: ViReAgentState):\n",
    "    \"\"\"Router sử dụng Send API để phân phối song song\"\"\"\n",
    "    sends = []\n",
    "    \n",
    "    for analyst in state[\"analysts\"]:\n",
    "        # Tạo state riêng cho mỗi analyst\n",
    "        analyst_state = {\n",
    "            \"question\": state[\"question\"],\n",
    "            \"image\": state[\"image\"],\n",
    "            \"analyst\": analyst,\n",
    "            \"number_of_steps\": 0,\n",
    "            \"messages\": []\n",
    "        }\n",
    "        \n",
    "        # Send đến subgraph tương ứng\n",
    "        if \"junior\" in analyst.name.lower():\n",
    "            sends.append(Send(\"junior_subgraph\", analyst_state))\n",
    "        elif \"senior\" in analyst.name.lower():\n",
    "            sends.append(Send(\"senior_subgraph\", analyst_state))\n",
    "        elif \"manager\" in analyst.name.lower():\n",
    "            sends.append(Send(\"manager_subgraph\", analyst_state))\n",
    "    \n",
    "    return sends"
   ]
  },
  {
   "cell_type": "code",
   "execution_count": 107,
   "metadata": {},
   "outputs": [
    {
     "data": {
      "image/png": "[encoded data removed]",
      "text/plain": [
       "<IPython.core.display.Image object>"
      ]
     },
     "metadata": {},
     "output_type": "display_data"
    }
   ],
   "source": [
    "from langgraph.graph import StateGraph, END\n",
    "from IPython.display import Image, display\n",
    "\n",
    "main_workflow = StateGraph(ViReAgentState)\n",
    "\n",
    "# Add nodes\n",
    "main_workflow.add_node(\"route_to_analysts\", route_to_analysts)\n",
    "main_workflow.add_node(\"junior_subgraph\", create_junior_subgraph())\n",
    "main_workflow.add_node(\"senior_subgraph\", create_senior_subgraph())\n",
    "main_workflow.add_node(\"manager_subgraph\", create_manager_subgraph())\n",
    "# main_workflow.add_node(\"aggregate_results\", aggregate_results)\n",
    "\n",
    "# Set entry point\n",
    "main_workflow.add_edge(START, \"route_to_analysts\")\n",
    "\n",
    "# Conditional edges từ router (Send API)\n",
    "main_workflow.add_conditional_edges(\n",
    "    \"route_to_analysts\",\n",
    "    lambda x: \"analysts\",  # Dummy function vì Send API tự route\n",
    "    [\"junior_subgraph\", \"senior_subgraph\", \"manager_subgraph\"]\n",
    ")\n",
    "\n",
    "# Tất cả subgraphs đều đi đến aggregation\n",
    "main_workflow.add_edge(\"junior_subgraph\", END)\n",
    "main_workflow.add_edge(\"senior_subgraph\", END)\n",
    "main_workflow.add_edge(\"manager_subgraph\", END)\n",
    "\n",
    "\n",
    "# Compile\n",
    "ViReAgent = main_workflow.compile()\n",
    "display(Image(ViReAgent.get_graph().draw_mermaid_png()))"
   ]
  },
  {
   "cell_type": "code",
   "execution_count": 108,
   "metadata": {},
   "outputs": [],
   "source": [
    "# agent = analysts[\"analysts\"][1]\n",
    "# # Create our initial message dictionary\n",
    "# # \"messages\": [(\"user\", \"How is the weather in Vietnam?\")] (optional)\n",
    "# URL = \"https://github.com/NVlabs/describe-anything/blob/main/images/1.jpg?raw=true\"\n",
    "# Q = \"What color is the dog's fur?\"\n",
    "# inputs = {\"analyst\": agent, \"question\": Q, \"image\": URL}\n",
    "\n",
    "# for state in ViReAgent.stream(inputs, stream_mode=\"values\"):\n",
    "#     if state[\"messages\"]:\n",
    "#         last_message = state[\"messages\"][-1]\n",
    "#         last_message.pretty_print()"
   ]
  },
  {
   "cell_type": "markdown",
   "metadata": {},
   "source": [
    "## Router"
   ]
  }
 ],
 "metadata": {
  "kernelspec": {
   "display_name": "MAknowledge",
   "language": "python",
   "name": "python3"
  },
  "language_info": {
   "codemirror_mode": {
    "name": "ipython",
    "version": 3
   },
   "file_extension": ".py",
   "mimetype": "text/x-python",
   "name": "python",
   "nbconvert_exporter": "python",
   "pygments_lexer": "ipython3",
   "version": "3.10.18"
  }
 },
 "nbformat": 4,
 "nbformat_minor": 2
}
